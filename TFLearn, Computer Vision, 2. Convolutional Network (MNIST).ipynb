{
 "cells": [
  {
   "cell_type": "markdown",
   "metadata": {
    "deletable": true,
    "editable": true
   },
   "source": [
    "# TFLearn, Computer Vision, 2. Convolutional Network (MNIST)"
   ]
  },
  {
   "cell_type": "code",
   "execution_count": 1,
   "metadata": {
    "collapsed": false,
    "deletable": true,
    "editable": true
   },
   "outputs": [],
   "source": [
    "# -*- coding: utf-8 -*-\n",
    "\n",
    "\"\"\" Convolutional Neural Network for MNIST dataset classification task.\n",
    "\n",
    "References:\n",
    "    Y. LeCun, L. Bottou, Y. Bengio, and P. Haffner. \"Gradient-based\n",
    "    learning applied to document recognition.\" Proceedings of the IEEE,\n",
    "    86(11):2278-2324, November 1998.\n",
    "\n",
    "Links:\n",
    "    [MNIST Dataset] http://yann.lecun.com/exdb/mnist/\n",
    "\n",
    "\"\"\"\n",
    "\n",
    "from __future__ import division, print_function, absolute_import\n",
    "\n",
    "import tensorflow as tf\n",
    "import tflearn\n",
    "from tflearn.layers.core import input_data, dropout, fully_connected\n",
    "from tflearn.layers.conv import conv_2d, max_pool_2d\n",
    "from tflearn.layers.normalization import local_response_normalization\n",
    "from tflearn.layers.estimator import regression"
   ]
  },
  {
   "cell_type": "code",
   "execution_count": 7,
   "metadata": {
    "collapsed": false,
    "deletable": true,
    "editable": true
   },
   "outputs": [
    {
     "name": "stdout",
     "output_type": "stream",
     "text": [
      "Extracting mnist/train-images-idx3-ubyte.gz\n",
      "Extracting mnist/train-labels-idx1-ubyte.gz\n",
      "Extracting mnist/t10k-images-idx3-ubyte.gz\n",
      "Extracting mnist/t10k-labels-idx1-ubyte.gz\n",
      "---\n",
      "X shape: (55000, 784)\n",
      "X re-shaped: (55000, 28, 28, 1)\n",
      "testX shape: (10000, 784)\n",
      "testX re-shaped: (10000, 28, 28, 1)\n",
      "Y shape: (55000, 10)\n",
      "testY shape: (10000, 10)\n"
     ]
    }
   ],
   "source": [
    "# Data loading and preprocessing\n",
    "import tflearn.datasets.mnist as mnist\n",
    "X, Y, testX, testY = mnist.load_data(one_hot=True)\n",
    "print(\"---\")\n",
    "print(\"X shape:\", X.shape)\n",
    "X = X.reshape([-1, 28, 28, 1])\n",
    "print(\"X re-shaped:\", X.shape)\n",
    "print(\"testX shape:\", testX.shape)\n",
    "testX = testX.reshape([-1, 28, 28, 1])\n",
    "print(\"testX re-shaped:\", testX.shape)\n",
    "print(\"Y shape:\", Y.shape)\n",
    "print(\"testY shape:\", testY.shape)"
   ]
  },
  {
   "cell_type": "code",
   "execution_count": 5,
   "metadata": {
    "collapsed": false,
    "deletable": true,
    "editable": true
   },
   "outputs": [
    {
     "name": "stdout",
     "output_type": "stream",
     "text": [
      "Training Step: 859  | total loss: \u001b[1m\u001b[32m0.07538\u001b[0m\u001b[0m | time: 42.243s\n",
      "| Adam | epoch: 001 | loss: 0.07538 - acc: 0.9781 -- iter: 54976/55000\n",
      "Training Step: 860  | total loss: \u001b[1m\u001b[32m0.07538\u001b[0m\u001b[0m | time: 43.385s\n",
      "| Adam | epoch: 001 | loss: 0.07538 - acc: 0.9772 | val_loss: 0.05711 - val_acc: 0.9813 -- iter: 55000/55000\n",
      "--\n"
     ]
    }
   ],
   "source": [
    "for optimizer in ['SGD', 'Adam']:\n",
    "    for learning_rate in [0.1, 0.01, 0.001]:\n",
    "        for n_epoch in [1]:\n",
    "            \n",
    "            run_id = optimizer + ', ' + str(learning_rate) + \", n\" + str(n_epoch)\n",
    "            \n",
    "            tf.reset_default_graph()\n",
    "\n",
    "            network = input_data(shape=[None, 28, 28, 1], name='input')\n",
    "            \n",
    "            network = conv_2d(network, 32, 3, activation='relu', regularizer=\"L2\")\n",
    "            network = max_pool_2d(network, 2)\n",
    "            network = local_response_normalization(network)\n",
    "\n",
    "            network = conv_2d(network, 64, 3, activation='relu', regularizer=\"L2\")\n",
    "            network = max_pool_2d(network, 2)\n",
    "            network = local_response_normalization(network)\n",
    "\n",
    "            network = fully_connected(network, 128, activation='tanh')\n",
    "            network = dropout(network, 0.8)\n",
    "\n",
    "            network = fully_connected(network, 256, activation='tanh')\n",
    "            network = dropout(network, 0.8)\n",
    "\n",
    "            network = fully_connected(network, 10, activation='softmax')\n",
    "\n",
    "            network = regression(\n",
    "                network, \n",
    "                optimizer=optimizer, \n",
    "                learning_rate=learning_rate, \n",
    "                loss='categorical_crossentropy', \n",
    "                name='target'\n",
    "            )\n",
    "            \n",
    "            model = tflearn.DNN(network, tensorboard_verbose=3)\n",
    "            model.fit(\n",
    "                {'input': X}, {'target': Y},\n",
    "                n_epoch=n_epoch,\n",
    "                validation_set=({'input': testX}, {'target': testY}),\n",
    "                snapshot_step=100, \n",
    "                show_metric=True, \n",
    "                run_id=run_id\n",
    "            )            "
   ]
  },
  {
   "cell_type": "code",
   "execution_count": null,
   "metadata": {
    "collapsed": true,
    "deletable": true,
    "editable": true
   },
   "outputs": [],
   "source": []
  },
  {
   "cell_type": "code",
   "execution_count": null,
   "metadata": {
    "collapsed": true,
    "deletable": true,
    "editable": true
   },
   "outputs": [],
   "source": []
  }
 ],
 "metadata": {
  "kernelspec": {
   "display_name": "Python 2",
   "language": "python",
   "name": "python2"
  },
  "language_info": {
   "codemirror_mode": {
    "name": "ipython",
    "version": 2
   },
   "file_extension": ".py",
   "mimetype": "text/x-python",
   "name": "python",
   "nbconvert_exporter": "python",
   "pygments_lexer": "ipython2",
   "version": "2.7.12"
  }
 },
 "nbformat": 4,
 "nbformat_minor": 2
}
