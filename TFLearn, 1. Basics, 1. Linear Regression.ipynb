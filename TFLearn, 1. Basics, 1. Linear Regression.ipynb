{
 "cells": [
  {
   "cell_type": "markdown",
   "metadata": {
    "deletable": true,
    "editable": true
   },
   "source": [
    "# TFLearn, 1. Basics, 1. Linear Regression"
   ]
  },
  {
   "cell_type": "code",
   "execution_count": 2,
   "metadata": {
    "collapsed": true,
    "deletable": true,
    "editable": true
   },
   "outputs": [],
   "source": [
    "%matplotlib inline\n",
    "\n",
    "from __future__ import absolute_import, division, print_function\n",
    "\n",
    "import tensorflow as tf\n",
    "import tflearn\n",
    "import numpy as np\n",
    "import matplotlib.pyplot as plt"
   ]
  },
  {
   "cell_type": "code",
   "execution_count": 3,
   "metadata": {
    "collapsed": false,
    "deletable": true,
    "editable": true
   },
   "outputs": [
    {
     "data": {
      "text/plain": [
       "<matplotlib.collections.PathCollection at 0x7f56e006b510>"
      ]
     },
     "execution_count": 3,
     "metadata": {},
     "output_type": "execute_result"
    },
    {
     "data": {
      "image/png": "[encoded data removed]",
      "text/plain": [
       "<matplotlib.figure.Figure at 0x7f568ec8fa10>"
      ]
     },
     "metadata": {},
     "output_type": "display_data"
    }
   ],
   "source": [
    "# Fake data generation based on\n",
    "# linear model y = 2x, and some noise\n",
    "X = np.linspace(-1, 1, 101)\n",
    "Y = 2 * X + np.random.randn(*X.shape) * 0.33\n",
    "\n",
    "plt.scatter(X, Y)"
   ]
  },
  {
   "cell_type": "code",
   "execution_count": 4,
   "metadata": {
    "collapsed": false,
    "deletable": true,
    "editable": true
   },
   "outputs": [
    {
     "name": "stdout",
     "output_type": "stream",
     "text": [
      "Training Step: 2000  | total loss: \u001b[1m\u001b[32m0.64976\u001b[0m\u001b[0m | time: 0.005s\n",
      "\u001b[2K\r",
      "| Adam | epoch: 1000 | loss: 0.64976 - R2: 0.3121 -- iter: 101/101\n"
     ]
    }
   ],
   "source": [
    "for optimizer in ['SGD', 'Adam']:\n",
    "    for learning_rate in [0.1, 0.01, 0.001, 0.0001]:\n",
    "        for n_epoch in [1, 10, 100, 1000]:\n",
    "        \n",
    "            tf.reset_default_graph()\n",
    "\n",
    "            run_id = optimizer + ', ' + str(learning_rate) + \", n\" + str(n_epoch)\n",
    "    \n",
    "            input_ = tflearn.input_data(shape=[None])\n",
    "            linear = tflearn.single_unit(input_)\n",
    "            regression = tflearn.regression(linear, optimizer=optimizer, loss='mean_square', metric='R2', learning_rate=learning_rate)\n",
    "            m = tflearn.DNN(regression)\n",
    "            m.fit(X, Y, n_epoch=n_epoch, show_metric=True, snapshot_epoch=False, run_id=run_id)"
   ]
  },
  {
   "cell_type": "code",
   "execution_count": 4,
   "metadata": {
    "collapsed": false,
    "deletable": true,
    "editable": true
   },
   "outputs": [
    {
     "name": "stdout",
     "output_type": "stream",
     "text": [
      "\n",
      "Regression result:\n",
      "Y = [ 0.25989383]*X + [ 0.74024945]\n"
     ]
    }
   ],
   "source": [
    "print(\"\\nRegression result:\")\n",
    "print(\"Y = \" + str(m.get_weights(linear.W)) +\n",
    "      \"*X + \" + str(m.get_weights(linear.b)))"
   ]
  },
  {
   "cell_type": "code",
   "execution_count": 5,
   "metadata": {
    "collapsed": false,
    "deletable": true,
    "editable": true
   },
   "outputs": [
    {
     "name": "stdout",
     "output_type": "stream",
     "text": [
      "\n",
      "Test prediction for x = 3.2, 3.3, 3.4:\n",
      "[1.5719096660614014, 1.597899079322815, 1.6238884925842285]\n"
     ]
    }
   ],
   "source": [
    "print(\"\\nTest prediction for x = 3.2, 3.3, 3.4:\")\n",
    "print(m.predict([3.2, 3.3, 3.4]))\n",
    "# should output (close, not exact) y = [1.5315033197402954, 1.5585315227508545, 1.5855598449707031]"
   ]
  },
  {
   "cell_type": "code",
   "execution_count": null,
   "metadata": {
    "collapsed": true,
    "deletable": true,
    "editable": true
   },
   "outputs": [],
   "source": []
  }
 ],
 "metadata": {
  "kernelspec": {
   "display_name": "Python 2",
   "language": "python",
   "name": "python2"
  },
  "language_info": {
   "codemirror_mode": {
    "name": "ipython",
    "version": 2
   },
   "file_extension": ".py",
   "mimetype": "text/x-python",
   "name": "python",
   "nbconvert_exporter": "python",
   "pygments_lexer": "ipython2",
   "version": "2.7.12"
  }
 },
 "nbformat": 4,
 "nbformat_minor": 2
}
